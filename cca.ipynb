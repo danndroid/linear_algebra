{
 "cells": [
  {
   "cell_type": "code",
   "execution_count": 4,
   "id": "f56c88d2-673b-48f5-a962-812192a50003",
   "metadata": {},
   "outputs": [],
   "source": [
    "import numpy as np\n",
    "import pandas as pd"
   ]
  },
  {
   "cell_type": "code",
   "execution_count": 8,
   "id": "7349f396-e30f-4f91-b898-1d5610e7cc5b",
   "metadata": {},
   "outputs": [],
   "source": [
    "path = '/home/warrior/Documents/computing/isl_book/datasets/auto.csv'"
   ]
  },
  {
   "cell_type": "code",
   "execution_count": 9,
   "id": "918bd571-0e05-4610-964b-46837a4d6e0b",
   "metadata": {},
   "outputs": [
    {
     "data": {
      "text/plain": [
       "(397, 9)"
      ]
     },
     "execution_count": 9,
     "metadata": {},
     "output_type": "execute_result"
    }
   ],
   "source": [
    "auto = pd.read_csv(path)\n",
    "auto.shape"
   ]
  },
  {
   "cell_type": "code",
   "execution_count": 24,
   "id": "80ba5486-aa45-4063-b243-4e1acd181534",
   "metadata": {},
   "outputs": [
    {
     "name": "stdout",
     "output_type": "stream",
     "text": [
      "<class 'pandas.core.frame.DataFrame'>\n",
      "RangeIndex: 397 entries, 0 to 396\n",
      "Data columns (total 9 columns):\n",
      " #   Column        Non-Null Count  Dtype  \n",
      "---  ------        --------------  -----  \n",
      " 0   mpg           397 non-null    float64\n",
      " 1   cylinders     397 non-null    int64  \n",
      " 2   displacement  397 non-null    float64\n",
      " 3   horsepower    397 non-null    object \n",
      " 4   weight        397 non-null    int64  \n",
      " 5   acceleration  397 non-null    float64\n",
      " 6   year          397 non-null    int64  \n",
      " 7   origin        397 non-null    int64  \n",
      " 8   name          397 non-null    object \n",
      "dtypes: float64(3), int64(4), object(2)\n",
      "memory usage: 28.0+ KB\n"
     ]
    }
   ],
   "source": [
    "auto.info()"
   ]
  },
  {
   "cell_type": "code",
   "execution_count": 15,
   "id": "d308339e-d4c6-429e-9fae-2ac628fffec3",
   "metadata": {},
   "outputs": [
    {
     "data": {
      "text/html": [
       "<div>\n",
       "<style scoped>\n",
       "    .dataframe tbody tr th:only-of-type {\n",
       "        vertical-align: middle;\n",
       "    }\n",
       "\n",
       "    .dataframe tbody tr th {\n",
       "        vertical-align: top;\n",
       "    }\n",
       "\n",
       "    .dataframe thead th {\n",
       "        text-align: right;\n",
       "    }\n",
       "</style>\n",
       "<table border=\"1\" class=\"dataframe\">\n",
       "  <thead>\n",
       "    <tr style=\"text-align: right;\">\n",
       "      <th></th>\n",
       "      <th>mpg</th>\n",
       "      <th>cylinders</th>\n",
       "      <th>displacement</th>\n",
       "      <th>horsepower</th>\n",
       "      <th>weight</th>\n",
       "      <th>acceleration</th>\n",
       "      <th>year</th>\n",
       "      <th>origin</th>\n",
       "      <th>name</th>\n",
       "    </tr>\n",
       "  </thead>\n",
       "  <tbody>\n",
       "    <tr>\n",
       "      <th>0</th>\n",
       "      <td>18.0</td>\n",
       "      <td>8</td>\n",
       "      <td>307.0</td>\n",
       "      <td>130</td>\n",
       "      <td>3504</td>\n",
       "      <td>12.0</td>\n",
       "      <td>70</td>\n",
       "      <td>1</td>\n",
       "      <td>chevrolet chevelle malibu</td>\n",
       "    </tr>\n",
       "    <tr>\n",
       "      <th>1</th>\n",
       "      <td>15.0</td>\n",
       "      <td>8</td>\n",
       "      <td>350.0</td>\n",
       "      <td>165</td>\n",
       "      <td>3693</td>\n",
       "      <td>11.5</td>\n",
       "      <td>70</td>\n",
       "      <td>1</td>\n",
       "      <td>buick skylark 320</td>\n",
       "    </tr>\n",
       "    <tr>\n",
       "      <th>2</th>\n",
       "      <td>18.0</td>\n",
       "      <td>8</td>\n",
       "      <td>318.0</td>\n",
       "      <td>150</td>\n",
       "      <td>3436</td>\n",
       "      <td>11.0</td>\n",
       "      <td>70</td>\n",
       "      <td>1</td>\n",
       "      <td>plymouth satellite</td>\n",
       "    </tr>\n",
       "  </tbody>\n",
       "</table>\n",
       "</div>"
      ],
      "text/plain": [
       "    mpg  cylinders  displacement horsepower  weight  acceleration  year  \\\n",
       "0  18.0          8         307.0        130    3504          12.0    70   \n",
       "1  15.0          8         350.0        165    3693          11.5    70   \n",
       "2  18.0          8         318.0        150    3436          11.0    70   \n",
       "\n",
       "   origin                       name  \n",
       "0       1  chevrolet chevelle malibu  \n",
       "1       1          buick skylark 320  \n",
       "2       1         plymouth satellite  "
      ]
     },
     "execution_count": 15,
     "metadata": {},
     "output_type": "execute_result"
    }
   ],
   "source": [
    "auto.head(3)"
   ]
  },
  {
   "cell_type": "code",
   "execution_count": 27,
   "id": "4580ae13-b6b6-414c-bc98-da0c4b9f2bb5",
   "metadata": {},
   "outputs": [
    {
     "name": "stdout",
     "output_type": "stream",
     "text": [
      "(397, 9)\n",
      "(392, 9)\n"
     ]
    }
   ],
   "source": [
    "print(auto.shape)\n",
    "auto = auto[auto['horsepower'] != '?']\n",
    "print(auto.shape)"
   ]
  },
  {
   "cell_type": "code",
   "execution_count": 88,
   "id": "6c85ef3f-5f18-4af1-913c-b500d99320ad",
   "metadata": {},
   "outputs": [
    {
     "name": "stderr",
     "output_type": "stream",
     "text": [
      "<ipython-input-88-c179eff361a6>:1: SettingWithCopyWarning: \n",
      "A value is trying to be set on a copy of a slice from a DataFrame.\n",
      "Try using .loc[row_indexer,col_indexer] = value instead\n",
      "\n",
      "See the caveats in the documentation: https://pandas.pydata.org/pandas-docs/stable/user_guide/indexing.html#returning-a-view-versus-a-copy\n",
      "  auto['horsepower'] = auto['horsepower'].astype(int)\n"
     ]
    }
   ],
   "source": [
    "auto['horsepower'] = auto['horsepower'].astype(int)"
   ]
  },
  {
   "cell_type": "code",
   "execution_count": 89,
   "id": "1e90e87d-ec68-4b23-9f62-562bcead9833",
   "metadata": {},
   "outputs": [
    {
     "name": "stdout",
     "output_type": "stream",
     "text": [
      "n: 392\n",
      "d1: 3\n",
      "d2: 2\n"
     ]
    }
   ],
   "source": [
    "X1, X2 = auto[['displacement','horsepower','weight']].values, auto[['acceleration','mpg']].values\n",
    "n, d1, d2 = X1.shape[0], X1.shape[1], X2.shape[1]\n",
    "print(f'n: {n}')\n",
    "print(f'd1: {d1}')\n",
    "print(f'd2: {d2}')"
   ]
  },
  {
   "cell_type": "code",
   "execution_count": 90,
   "id": "5cb6bb1e-e9fa-4995-91e2-c77d12c03dc6",
   "metadata": {},
   "outputs": [
    {
     "data": {
      "text/plain": [
       "((3, 3), (2, 2))"
      ]
     },
     "execution_count": 90,
     "metadata": {},
     "output_type": "execute_result"
    }
   ],
   "source": [
    "S1 = np.cov(X1.T)\n",
    "S2 = np.cov(X2.T)\n",
    "S1.shape, S2.shape"
   ]
  },
  {
   "cell_type": "code",
   "execution_count": 91,
   "id": "8417f27a-b125-412a-8f5b-49157c04ff9b",
   "metadata": {},
   "outputs": [
    {
     "data": {
      "text/plain": [
       "array([[ 10950.36755409,   3614.03374393,  82929.10013897],\n",
       "       [  3614.03374393,   1481.56939297,  28265.6202307 ],\n",
       "       [ 82929.10013897,  28265.6202307 , 721484.70900752]])"
      ]
     },
     "execution_count": 91,
     "metadata": {},
     "output_type": "execute_result"
    }
   ],
   "source": [
    "S1"
   ]
  },
  {
   "cell_type": "code",
   "execution_count": 92,
   "id": "e839fefb-3012-4353-b9d8-99ea8b07f1ea",
   "metadata": {},
   "outputs": [
    {
     "data": {
      "text/plain": [
       "array([[ 7.61133123,  9.11551438],\n",
       "       [ 9.11551438, 60.91814187]])"
      ]
     },
     "execution_count": 92,
     "metadata": {},
     "output_type": "execute_result"
    }
   ],
   "source": [
    "S2"
   ]
  },
  {
   "cell_type": "code",
   "execution_count": 122,
   "id": "2438e275-94a7-4457-ae91-44f4d5d51607",
   "metadata": {},
   "outputs": [
    {
     "name": "stdout",
     "output_type": "stream",
     "text": [
      "(5, 392)\n"
     ]
    },
    {
     "data": {
      "text/plain": [
       "(5, 5)"
      ]
     },
     "execution_count": 122,
     "metadata": {},
     "output_type": "execute_result"
    }
   ],
   "source": [
    "X = np.hstack([X1,X2]).T\n",
    "print(X.shape)\n",
    "S = np.cov(X)\n",
    "S.shape"
   ]
  },
  {
   "cell_type": "code",
   "execution_count": 129,
   "id": "e7ccb450-7af0-4047-aa9e-243a68fd1de0",
   "metadata": {},
   "outputs": [
    {
     "name": "stdout",
     "output_type": "stream",
     "text": [
      "[[ 10950.36755409   3614.03374393  82929.10013897]\n",
      " [  3614.03374393   1481.56939297  28265.6202307 ]\n",
      " [ 82929.10013897  28265.6202307  721484.70900752]]\n"
     ]
    }
   ],
   "source": [
    "#S1\n",
    "S1 = S[:d1,:d1]\n",
    "print(S1)"
   ]
  },
  {
   "cell_type": "code",
   "execution_count": 130,
   "id": "28a8ef20-0da5-4b65-b8ff-2579f0067903",
   "metadata": {},
   "outputs": [
    {
     "name": "stdout",
     "output_type": "stream",
     "text": [
      "[[ 7.61133123  9.11551438]\n",
      " [ 9.11551438 60.91814187]]\n"
     ]
    }
   ],
   "source": [
    "#S2\n",
    "S2 = S[d1:,d1:]\n",
    "print(S2)"
   ]
  },
  {
   "cell_type": "code",
   "execution_count": 131,
   "id": "09792f2f-35ff-460a-9acb-77712184f779",
   "metadata": {},
   "outputs": [
    {
     "name": "stdout",
     "output_type": "stream",
     "text": [
      "[[ -156.99443538  -657.58520669]\n",
      " [  -73.18696696  -233.85792578]\n",
      " [ -976.81525262 -5517.44070411]]\n"
     ]
    }
   ],
   "source": [
    "#S12\n",
    "S12 = S[:d1,d1:]\n",
    "print(S12)"
   ]
  },
  {
   "cell_type": "code",
   "execution_count": 132,
   "id": "bbf4fbb8-cf65-4f1b-8261-c9d2462e2321",
   "metadata": {},
   "outputs": [
    {
     "name": "stdout",
     "output_type": "stream",
     "text": [
      "[[ -156.99443538   -73.18696696  -976.81525262]\n",
      " [ -657.58520669  -233.85792578 -5517.44070411]]\n"
     ]
    }
   ],
   "source": [
    "#S12 T\n",
    "S12t = S[d1:,:d1]\n",
    "print(S12t)"
   ]
  },
  {
   "cell_type": "code",
   "execution_count": 205,
   "id": "be56d336-d7d7-4a55-b4cc-6e8b837b9255",
   "metadata": {},
   "outputs": [
    {
     "data": {
      "text/plain": [
       "array([[-11.93028245,  -5.7819269 ],\n",
       "       [-20.24676771,  -9.80371475],\n",
       "       [ -4.14073367,  -2.00867664]])"
      ]
     },
     "execution_count": 205,
     "metadata": {},
     "output_type": "execute_result"
    }
   ],
   "source": [
    "C = np.power(S1,-1/2) @ S12 @ np.power(S2,-1/2)\n",
    "C"
   ]
  },
  {
   "cell_type": "code",
   "execution_count": 195,
   "id": "7bf67364-4ecc-47b9-8aba-3583dce9df53",
   "metadata": {},
   "outputs": [
    {
     "name": "stdout",
     "output_type": "stream",
     "text": [
      "[[104.64400391  60.11683411 287.97413102]\n",
      " [ 60.11683411  38.49115993 168.1238241 ]\n",
      " [287.97413102 168.1238241  849.40256004]]\n",
      "\n",
      "[[0.00955621 0.01663428 0.00347253]\n",
      " [0.01663428 0.02597999 0.005948  ]\n",
      " [0.00347253 0.005948   0.0011773 ]]\n"
     ]
    }
   ],
   "source": [
    "print(np.sqrt(S1))\n",
    "print('')\n",
    "print(1/np.sqrt(S1))"
   ]
  },
  {
   "cell_type": "code",
   "execution_count": 197,
   "id": "08ae214f-ceeb-4422-8f16-e1bc48a09788",
   "metadata": {},
   "outputs": [
    {
     "name": "stdout",
     "output_type": "stream",
     "text": [
      "[[2.75886412 3.01919101]\n",
      " [3.01919101 7.80500749]]\n",
      "\n",
      "[[0.36246801 0.33121455]\n",
      " [0.33121455 0.12812288]]\n"
     ]
    }
   ],
   "source": [
    "print(np.sqrt(S2))\n",
    "print('')\n",
    "print(1/np.sqrt(S2))"
   ]
  },
  {
   "cell_type": "code",
   "execution_count": 212,
   "id": "f5e30d97-d0c7-4839-a570-7825dcc5f0af",
   "metadata": {},
   "outputs": [
    {
     "data": {
      "text/plain": [
       "array([[-11.93028245,  -5.7819269 ],\n",
       "       [-20.24676771,  -9.80371475],\n",
       "       [ -4.14073367,  -2.00867664]])"
      ]
     },
     "execution_count": 212,
     "metadata": {},
     "output_type": "execute_result"
    }
   ],
   "source": [
    "C = (1/np.sqrt(S1)) @ S12 @ (1/np.sqrt(S2))\n",
    "C"
   ]
  },
  {
   "cell_type": "code",
   "execution_count": 202,
   "id": "d8297c65-2af9-466f-b89e-bc49ba994ba8",
   "metadata": {},
   "outputs": [
    {
     "name": "stdout",
     "output_type": "stream",
     "text": [
      "(5, 5)\n"
     ]
    },
    {
     "data": {
      "text/plain": [
       "array([[ 1.        ,  0.897257  ,  0.9329944 , -0.5438005 , -0.80512695],\n",
       "       [ 0.897257  ,  1.        ,  0.86453774, -0.68919551, -0.77842678],\n",
       "       [ 0.9329944 ,  0.86453774,  1.        , -0.4168392 , -0.83224421],\n",
       "       [-0.5438005 , -0.68919551, -0.4168392 ,  1.        ,  0.42332854],\n",
       "       [-0.80512695, -0.77842678, -0.83224421,  0.42332854,  1.        ]])"
      ]
     },
     "execution_count": 202,
     "metadata": {},
     "output_type": "execute_result"
    }
   ],
   "source": [
    "print(np.corrcoef(X).shape)\n",
    "np.corrcoef(X)"
   ]
  },
  {
   "cell_type": "code",
   "execution_count": 213,
   "id": "7d183c47-ed4c-46ed-9d8b-79c821637f77",
   "metadata": {},
   "outputs": [
    {
     "data": {
      "text/plain": [
       "array([[-0.5438005 , -0.80512695],\n",
       "       [-0.68919551, -0.77842678],\n",
       "       [-0.4168392 , -0.83224421]])"
      ]
     },
     "execution_count": 213,
     "metadata": {},
     "output_type": "execute_result"
    }
   ],
   "source": [
    "np.corrcoef(X)[:3,3:]"
   ]
  },
  {
   "cell_type": "code",
   "execution_count": 177,
   "id": "86fc5998-46f0-4057-9584-cf024a03e4f5",
   "metadata": {},
   "outputs": [
    {
     "data": {
      "text/plain": [
       "array([[ -156.99443538,  -657.58520669],\n",
       "       [  -73.18696696,  -233.85792578],\n",
       "       [ -976.81525262, -5517.44070411]])"
      ]
     },
     "execution_count": 177,
     "metadata": {},
     "output_type": "execute_result"
    }
   ],
   "source": [
    "S12"
   ]
  },
  {
   "cell_type": "code",
   "execution_count": 178,
   "id": "ebfb4d72-88c6-4f3f-8491-b017ebf02bae",
   "metadata": {},
   "outputs": [
    {
     "data": {
      "text/plain": [
       "array([[ -6.10970818, -29.33358027],\n",
       "       [-10.32297969, -49.83180129],\n",
       "       [ -2.13048711, -10.17014564]])"
      ]
     },
     "execution_count": 178,
     "metadata": {},
     "output_type": "execute_result"
    }
   ],
   "source": [
    "np.power(S1,-1/2) @ S12"
   ]
  },
  {
   "cell_type": "code",
   "execution_count": 198,
   "id": "45f50e07-dc15-49e9-9847-b3b72b751c8f",
   "metadata": {},
   "outputs": [
    {
     "data": {
      "text/plain": [
       "array([[ -274.70725113,  -136.25054899],\n",
       "       [ -103.9850828 ,   -54.20313833],\n",
       "       [-2181.52093788, -1030.44579322]])"
      ]
     },
     "execution_count": 198,
     "metadata": {},
     "output_type": "execute_result"
    }
   ],
   "source": [
    "S12 @ np.power(S2,-1/2)"
   ]
  },
  {
   "cell_type": "code",
   "execution_count": null,
   "id": "e657e5cb-41bb-4c52-b49e-4c6e977f9a4b",
   "metadata": {},
   "outputs": [],
   "source": []
  },
  {
   "cell_type": "code",
   "execution_count": null,
   "id": "b17b3295-05b8-462b-a2eb-1eeca54526f8",
   "metadata": {},
   "outputs": [],
   "source": []
  },
  {
   "cell_type": "code",
   "execution_count": 149,
   "id": "2c012ea0-edc7-4865-87c8-a746bc4f535c",
   "metadata": {},
   "outputs": [
    {
     "data": {
      "text/plain": [
       "10950.367554086853"
      ]
     },
     "execution_count": 149,
     "metadata": {},
     "output_type": "execute_result"
    }
   ],
   "source": [
    "np.var(X[0],ddof=True)"
   ]
  },
  {
   "cell_type": "code",
   "execution_count": 182,
   "id": "78941929-80a9-4172-8bac-795069c3ffcd",
   "metadata": {},
   "outputs": [
    {
     "data": {
      "text/plain": [
       "array([[ -156.99443538,  -657.58520669],\n",
       "       [  -73.18696696,  -233.85792578],\n",
       "       [ -976.81525262, -5517.44070411]])"
      ]
     },
     "execution_count": 182,
     "metadata": {},
     "output_type": "execute_result"
    }
   ],
   "source": [
    "S12"
   ]
  },
  {
   "cell_type": "code",
   "execution_count": 187,
   "id": "acb42fb0-dbbd-45a1-ba5a-5c6b17da942d",
   "metadata": {},
   "outputs": [
    {
     "data": {
      "text/plain": [
       "-156.99443538284882"
      ]
     },
     "execution_count": 187,
     "metadata": {},
     "output_type": "execute_result"
    }
   ],
   "source": [
    "S12[0][0] # (X1_i, X2_i)"
   ]
  },
  {
   "cell_type": "code",
   "execution_count": 188,
   "id": "fff6cd84-b405-482c-a809-4d27cc4e4511",
   "metadata": {},
   "outputs": [
    {
     "data": {
      "text/plain": [
       "(104.64400390890466, 2.758864119188082)"
      ]
     },
     "execution_count": 188,
     "metadata": {},
     "output_type": "execute_result"
    }
   ],
   "source": [
    "np.sqrt(np.var(X[0],ddof=True)), np.sqrt(np.var(X[3],ddof=True))"
   ]
  },
  {
   "cell_type": "code",
   "execution_count": 189,
   "id": "01685cf8-c52d-47af-80ce-53e90078a991",
   "metadata": {},
   "outputs": [
    {
     "name": "stdout",
     "output_type": "stream",
     "text": [
      "104.64400390890466 2.758864119188082\n",
      "\n",
      "0.009556209268048708 0.36246801466043\n",
      "\n",
      "0.003463820201069216\n",
      "\n",
      "p -0.5451912908339701\n"
     ]
    }
   ],
   "source": [
    "print(np.std(X[0], ddof=True), np.std(X[3], ddof=True))\n",
    "print('')\n",
    "print(1/np.std(X[0], ddof=True), 1/np.std(X[3], ddof=True))\n",
    "print('')\n",
    "print(1/np.std(X[0], ddof=True) * 1/np.std(X[3], ddof=True))\n",
    "print('')\n",
    "print('p',-156.99443538 / (np.std(X[0], ddof=True)*np.std(X[3], ddof=True)))"
   ]
  },
  {
   "cell_type": "code",
   "execution_count": 200,
   "id": "a285a0a8-4d54-429d-99c8-2a21e10d5f5e",
   "metadata": {},
   "outputs": [
    {
     "name": "stdout",
     "output_type": "stream",
     "text": [
      "104.64400390890466 2.758864119188082\n",
      "\n",
      "0.009556209268048708 0.36246801466043\n",
      "\n",
      "0.003463820201069216\n",
      "\n",
      "p -0.5451912908339701\n"
     ]
    }
   ],
   "source": [
    "print(np.std(X[0], ddof=True), np.std(X[3], ddof=True))\n",
    "print('')\n",
    "print(1/np.std(X[0], ddof=True), 1/np.std(X[3], ddof=True))\n",
    "print('')\n",
    "print(1/np.std(X[0], ddof=True) * 1/np.std(X[3], ddof=True))\n",
    "print('')\n",
    "print('p',-156.99443538 / (np.std(X[0])*np.std(X[3])))"
   ]
  },
  {
   "cell_type": "code",
   "execution_count": 147,
   "id": "1982b527-ae32-436a-a68b-e8bb78bf3c8e",
   "metadata": {},
   "outputs": [
    {
     "data": {
      "text/plain": [
       "0.8972570018428841"
      ]
     },
     "execution_count": 147,
     "metadata": {},
     "output_type": "execute_result"
    }
   ],
   "source": [
    "3614.03374393 / (np.std(X[0], ddof=True)*np.std(X[1], ddof=True))"
   ]
  },
  {
   "cell_type": "code",
   "execution_count": 152,
   "id": "737adf03-1ca2-4e39-a379-030bdf72ca59",
   "metadata": {},
   "outputs": [
    {
     "data": {
      "text/plain": [
       "-0.5438004967246997"
      ]
     },
     "execution_count": 152,
     "metadata": {},
     "output_type": "execute_result"
    }
   ],
   "source": [
    "-156.99443538 / (np.std(X[0], ddof=True)*np.std(X[3], ddof=True))"
   ]
  },
  {
   "cell_type": "code",
   "execution_count": null,
   "id": "49cbc5c8-ac7d-4278-a1a8-38b8ad01325f",
   "metadata": {},
   "outputs": [],
   "source": []
  }
 ],
 "metadata": {
  "kernelspec": {
   "display_name": "Python 3",
   "language": "python",
   "name": "python3"
  },
  "language_info": {
   "codemirror_mode": {
    "name": "ipython",
    "version": 3
   },
   "file_extension": ".py",
   "mimetype": "text/x-python",
   "name": "python",
   "nbconvert_exporter": "python",
   "pygments_lexer": "ipython3",
   "version": "3.9.0"
  }
 },
 "nbformat": 4,
 "nbformat_minor": 5
}
